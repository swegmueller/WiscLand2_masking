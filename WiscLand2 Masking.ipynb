{
 "cells": [
  {
   "cell_type": "markdown",
   "metadata": {},
   "source": [
    "WiscLand2 is land cover data for the state of Wisconsin. I use this data to mask out anything but forests in my project.  This could be easily be adjusted, though, in the code below.\n",
    "\n",
    "This notebook crops the Wiscland data and the images to a shapefile (such as your study area) and then masks the images of everything but \"forest.\"  Reprojection and resampling are done automatically.\n",
    "\n",
    "About WiscLand2:\n",
    "https://www.sco.wisc.edu/2016/09/23/wiscland-2-project-complete-data-now-available/\n",
    "Download Wiscland2 (will automatically download!):\n",
    "https://data-wi-dnr.opendata.arcgis.com/datasets/d7f5d33b182044c187c776e47d72ce84"
   ]
  },
  {
   "cell_type": "code",
   "execution_count": 7,
   "metadata": {},
   "outputs": [],
   "source": [
    "import os\n",
    "from osgeo import gdal, gdal_array\n",
    "import numpy as np\n",
    "import numpy.ma as ma\n",
    "import rasterio"
   ]
  },
  {
   "cell_type": "code",
   "execution_count": 9,
   "metadata": {},
   "outputs": [],
   "source": [
    "### This is the only block you need to edit. ###\n",
    "\n",
    "# Location of my image files and where output will be saved\n",
    "os.chdir('.../files')\n",
    "\n",
    "# Image names in the filepath given above\n",
    "image_fps = ['20190924_164332_56_1058_3B_AnalyticMS_SR_clip_masked.tif',\n",
    "            '20190926_164553_77_1061_3B_AnalyticMS_SR_clip_masked.tif']\n",
    "\n",
    "# Location of the wiscland data\n",
    "wiscland = '.../WiscLand2/wiscland2_landcover/wiscland2/wiscland2_dataset/level1/wiscland2_level1.tif'\n",
    "\n",
    "# Location of shape (study area, AOI) to crop the images and Wiscland to\n",
    "shape = '...AOI.shp'\n",
    "\n",
    "# Type of imagery. This is used for resampling purposes.\n",
    "sensor = 'Dove'"
   ]
  },
  {
   "cell_type": "code",
   "execution_count": 10,
   "metadata": {},
   "outputs": [],
   "source": [
    "def crop_plot(shape, org_img, crop_file):\n",
    "    ''' \n",
    "    Crops orignal imagery to extent of desired shape.\n",
    "    Input a shapefile with ONE feature\n",
    "    Shape = shapefile to be used for cropping\n",
    "    Org_img = original imagery to be cropped\n",
    "    crop_file = File for cropped imagery to be written to\n",
    "    ''' \n",
    "    \n",
    "    import fiona \n",
    "    import rasterio \n",
    "    import rasterio.mask \n",
    "    \n",
    "    with fiona.open(shape, 'r') as shapefile:\n",
    "        features = [feature['geometry'] for feature in shapefile]\n",
    "    \n",
    "    with rasterio.open(org_img) as src:\n",
    "        out_image, out_transform = rasterio.mask.mask(src, features, crop=True)\n",
    "        out_meta = src.meta.copy()\n",
    "        \n",
    "    out_meta.update({\"driver\": \"GTiff\",\n",
    "                     \"height\": out_image.shape[1],\n",
    "                     \"width\": out_image.shape[2],\n",
    "                     \"transform\": out_transform,\n",
    "                     \"nodata\":0})\n",
    "    \n",
    "    with rasterio.open(crop_file, \"w\", **out_meta) as dest:\n",
    "        dest.write(out_image)\n",
    "        \n",
    "    shape=None"
   ]
  },
  {
   "cell_type": "code",
   "execution_count": 11,
   "metadata": {},
   "outputs": [
    {
     "name": "stdout",
     "output_type": "stream",
     "text": [
      "3\n"
     ]
    }
   ],
   "source": [
    "if sensor == 'Dove':\n",
    "    res = 3\n",
    "elif sensor == 'Sentinel-2':\n",
    "    res = 10\n",
    "elif sensor == 'Landsat' or sensor == 'HLS':\n",
    "    res = 30    "
   ]
  },
  {
   "cell_type": "code",
   "execution_count": 12,
   "metadata": {},
   "outputs": [
    {
     "name": "stdout",
     "output_type": "stream",
     "text": [
      "20190924_164332_56_1058_3B_AnalyticMS_SR_clip_masked.tif\n",
      "{'driver': 'GTiff', 'dtype': 'uint16', 'nodata': None, 'width': 3026, 'height': 1341, 'count': 1, 'crs': CRS.from_epsg(32616), 'transform': Affine(3.0, 0.0, 316920.0,\n",
      "       0.0, -3.0, 5096574.0)}\n",
      "Masking band 1\n",
      "Masking band 2\n",
      "Masking band 3\n",
      "Masking band 4\n",
      "20190926_164553_77_1061_3B_AnalyticMS_SR_clip_masked.tif\n",
      "{'driver': 'GTiff', 'dtype': 'uint16', 'nodata': None, 'width': 3026, 'height': 1341, 'count': 1, 'crs': CRS.from_epsg(32616), 'transform': Affine(3.0, 0.0, 316920.0,\n",
      "       0.0, -3.0, 5096574.0)}\n",
      "Masking band 1\n",
      "Masking band 2\n",
      "Masking band 3\n",
      "Masking band 4\n"
     ]
    }
   ],
   "source": [
    "# Reproject mask (as needed) and align spatial resolution. Crop mask to image bounds.\n",
    "for image in image_fps:\n",
    "    print(image)\n",
    "    raster = rasterio.open(image)\n",
    "    wl = rasterio.open(wiscland)\n",
    "    img_crs = raster.crs\n",
    "    profile = wl.profile\n",
    "    wl_crs = profile['crs']\n",
    "    limits = [raster.bounds[0], raster.bounds[1], raster.bounds[2], raster.bounds[3]]\n",
    "    # Generate gdal warp options \n",
    "    warp_options = gdal.WarpOptions(format='GTiff', \n",
    "                                    outputBounds=limits,\n",
    "                                    xRes=res,                  \n",
    "                                    yRes=res,\n",
    "                                    srcSRS=wl_crs,\n",
    "                                    dstSRS=img_crs,\n",
    "                                    resampleAlg='near',\n",
    "                                    multithread=True)\n",
    "    \n",
    "    wl_reproj = '%s_Reprojected_wiscland.tif' %image[:-4]\n",
    "    \n",
    "    rerun = gdal.Warp(wl_reproj, wiscland, options=warp_options)\n",
    "    rerun = None\n",
    "    # Check the profile for extent and spatial resolution \n",
    "    wl_rep = rasterio.open(wl_reproj)\n",
    "\n",
    "    meta = wl_rep.meta\n",
    "    print(meta)\n",
    "    wiscland = wl_reproj\n",
    "    \n",
    "    image_clip_fp = '%s_clip.tif' %image[:-4]\n",
    "    wl_clip_fp = 'Wiscland_clip.tif'\n",
    "    \n",
    "    crop_plot(shape, image, image_clip_fp)\n",
    "    crop_plot(shape, wiscland, wl_clip_fp)\n",
    "    \n",
    "    #Create mask\n",
    "    mask_file = gdal.Open(wl_clip_fp)\n",
    "    mask_data = mask_file.GetRasterBand(1)\n",
    "    mask_array = gdal_array.BandReadAsArray(mask_data)\n",
    "\n",
    "    # forest pixels are 4000\n",
    "    mask = (mask_array == 4000)\n",
    "    qa_mask = np.invert(mask) #Inverstion is necessary to work with ma.masked_array\n",
    "\n",
    "    # Mask bands \n",
    "    arr = np.zeros((np.shape(qa_mask)[0], np.shape(qa_mask)[1]),  dtype=np.uint16)  # pre-allocate\n",
    "\n",
    "    org_image = gdal.Open(image_clip_fp)\n",
    "    num_bands = range(1, org_image.RasterCount+1)\n",
    "\n",
    "    masked_fp = '%s_masked.tif' %image_clip_fp[:-4]\n",
    "\n",
    "    for band in num_bands:\n",
    "        print('Masking band %s' %band)\n",
    "        band_data = org_image.GetRasterBand(band)\n",
    "        band_array = gdal_array.BandReadAsArray(band_data)\n",
    "\n",
    "        tmp = ma.masked_array(band_array, qa_mask)\n",
    "        arr = ma.filled(tmp, 0)  # fill mask using nodata value.\n",
    "\n",
    "        # Write data to a geotiff\n",
    "        with rasterio.open(image_clip_fp) as src:\n",
    "            kwds = src.profile\n",
    "            kwds['nodata'] = 0\n",
    "            kwds['driver'] = 'GTiff'\n",
    "            #kwds['dtype'] = rasterio.int16\n",
    "            kwds['width'] = arr.shape[1]\n",
    "            kwds['height'] = arr.shape[0]\n",
    "            kwds['count'] = org_image.RasterCount\n",
    "\n",
    "\n",
    "            if band == 1:          \n",
    "                with rasterio.open(masked_fp, 'w', **kwds) as dst:\n",
    "                     dst.write(np.array(arr).astype(rasterio.uint16), band)\n",
    "            else:\n",
    "                with rasterio.open(masked_fp, 'r+', **kwds) as dst:\n",
    "                     dst.write(np.array(arr).astype(rasterio.uint16), band)\n"
   ]
  }
 ],
 "metadata": {
  "kernelspec": {
   "display_name": "Python 3",
   "language": "python",
   "name": "python3"
  },
  "language_info": {
   "codemirror_mode": {
    "name": "ipython",
    "version": 3
   },
   "file_extension": ".py",
   "mimetype": "text/x-python",
   "name": "python",
   "nbconvert_exporter": "python",
   "pygments_lexer": "ipython3",
   "version": "3.7.7"
  }
 },
 "nbformat": 4,
 "nbformat_minor": 4
}
